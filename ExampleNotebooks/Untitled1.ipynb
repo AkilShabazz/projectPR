{
 "cells": [
  {
   "cell_type": "code",
   "execution_count": 1,
   "metadata": {
    "collapsed": true
   },
   "outputs": [],
   "source": [
    "from pathos.pools import ProcessPool, ThreadPool\n",
    "import logging\n",
    "log = logging.getLogger(__name__)\n",
    "\n",
    "class PMPExample(object):\n",
    "    def __init__(self):\n",
    "        self.cache = {}\n",
    "\n",
    "    def compute(self, x):\n",
    "        self.cache[x] = x ** 3\n",
    "        return self.cache[x]\n",
    "\n",
    "    def threadcompute(self, xs):\n",
    "        pool = ThreadPool(4)\n",
    "        results = pool.map(self.compute, xs)\n",
    "        return results\n",
    "\n",
    "    def processcompute(self, xs):\n",
    "        pool = ProcessPool(4)\n",
    "        results = pool.map(self.compute, xs)\n",
    "        return results\n",
    "\n",
    "def parcompute_example():\n",
    "    dc = PMPExample()\n",
    "    dc2 = PMPExample()\n",
    "    dc3 = PMPExample()\n",
    "    dc4 = PMPExample()\n",
    "\n",
    "    n_datapoints = 100\n",
    "    inp_data = range(n_datapoints)\n",
    "    r1 = dc.threadcompute(inp_data)\n",
    "    assert(len(dc.cache) == n_datapoints)\n",
    "\n",
    "    r2 = dc2.processcompute(inp_data)\n",
    "    assert(len(dc2.cache) == 0)\n",
    "    assert(r1 == r2)\n",
    "\n",
    "    r3 = ProcessPool(4).map(dc3.compute, inp_data)\n",
    "    r4 = ThreadPool(4).map(dc4.compute, inp_data)\n",
    "    assert(r4 == r3 == r2)\n",
    "    assert(len(dc3.cache) == 0)\n",
    "    assert(len(dc4.cache) == n_datapoints)\n",
    "    \n",
    "    print r1\n",
    "    print r2\n",
    "    \n",
    "    log.info(\"Size of threadpooled class caches: {0}, {1}\".format(len(dc.cache), len(dc4.cache)))\n",
    "    log.info(\"Size of processpooled class caches: {0}, {1}\".format(len(dc2.cache), len(dc3.cache)))"
   ]
  },
  {
   "cell_type": "code",
   "execution_count": 2,
   "metadata": {},
   "outputs": [
    {
     "name": "stderr",
     "output_type": "stream",
     "text": [
      "INFO:__main__:Size of threadpooled class caches: 100, 100\n",
      "INFO:__main__:Size of processpooled class caches: 0, 0\n"
     ]
    },
    {
     "name": "stdout",
     "output_type": "stream",
     "text": [
      "[0, 1, 8, 27, 64, 125, 216, 343, 512, 729, 1000, 1331, 1728, 2197, 2744, 3375, 4096, 4913, 5832, 6859, 8000, 9261, 10648, 12167, 13824, 15625, 17576, 19683, 21952, 24389, 27000, 29791, 32768, 35937, 39304, 42875, 46656, 50653, 54872, 59319, 64000, 68921, 74088, 79507, 85184, 91125, 97336, 103823, 110592, 117649, 125000, 132651, 140608, 148877, 157464, 166375, 175616, 185193, 195112, 205379, 216000, 226981, 238328, 250047, 262144, 274625, 287496, 300763, 314432, 328509, 343000, 357911, 373248, 389017, 405224, 421875, 438976, 456533, 474552, 493039, 512000, 531441, 551368, 571787, 592704, 614125, 636056, 658503, 681472, 704969, 729000, 753571, 778688, 804357, 830584, 857375, 884736, 912673, 941192, 970299]\n",
      "[0, 1, 8, 27, 64, 125, 216, 343, 512, 729, 1000, 1331, 1728, 2197, 2744, 3375, 4096, 4913, 5832, 6859, 8000, 9261, 10648, 12167, 13824, 15625, 17576, 19683, 21952, 24389, 27000, 29791, 32768, 35937, 39304, 42875, 46656, 50653, 54872, 59319, 64000, 68921, 74088, 79507, 85184, 91125, 97336, 103823, 110592, 117649, 125000, 132651, 140608, 148877, 157464, 166375, 175616, 185193, 195112, 205379, 216000, 226981, 238328, 250047, 262144, 274625, 287496, 300763, 314432, 328509, 343000, 357911, 373248, 389017, 405224, 421875, 438976, 456533, 474552, 493039, 512000, 531441, 551368, 571787, 592704, 614125, 636056, 658503, 681472, 704969, 729000, 753571, 778688, 804357, 830584, 857375, 884736, 912673, 941192, 970299]\n"
     ]
    }
   ],
   "source": [
    "\n",
    "logging.basicConfig()\n",
    "log.setLevel(logging.INFO)\n",
    "parcompute_example()"
   ]
  },
  {
   "cell_type": "code",
   "execution_count": null,
   "metadata": {
    "collapsed": true
   },
   "outputs": [],
   "source": []
  }
 ],
 "metadata": {
  "kernelspec": {
   "display_name": "Python 2",
   "language": "python",
   "name": "python2"
  },
  "language_info": {
   "codemirror_mode": {
    "name": "ipython",
    "version": 2
   },
   "file_extension": ".py",
   "mimetype": "text/x-python",
   "name": "python",
   "nbconvert_exporter": "python",
   "pygments_lexer": "ipython2",
   "version": "2.7.13"
  }
 },
 "nbformat": 4,
 "nbformat_minor": 2
}
