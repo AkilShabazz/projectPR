{
 "cells": [
  {
   "cell_type": "code",
   "execution_count": 1,
   "metadata": {
    "collapsed": true
   },
   "outputs": [],
   "source": [
    "import sys\n",
    "sys.path.insert(0, '..')\n",
    "import time\n",
    "import matplotlib.pyplot as plt\n",
    "import matplotlib.gridspec as gridspec\n",
    "%matplotlib notebook  \n",
    "import numpy as np\n",
    "\n",
    "from Configuration import Configuration\n",
    "from MotorUnitPool import MotorUnitPool\n",
    "from AfferentPool import AfferentPool\n",
    "from SynapsesFactory import SynapsesFactory"
   ]
  },
  {
   "cell_type": "code",
   "execution_count": 2,
   "metadata": {
    "collapsed": true
   },
   "outputs": [],
   "source": [
    "conf = Configuration('confH-ReflexM-WaveCurve.rmto')"
   ]
  },
  {
   "cell_type": "code",
   "execution_count": null,
   "metadata": {},
   "outputs": [
    {
     "name": "stdout",
     "output_type": "stream",
     "text": [
      "Motor Unit Pool SOL built\n",
      "Afferent Pool Ia of muscle SOL built\n",
      "Afferent Pool Ia of muscle LG built\n",
      "All the 345791 synapses were built\n"
     ]
    }
   ],
   "source": [
    "t = np.arange(0.0, conf.simDuration_ms, conf.timeStep_ms)\n",
    "Nsim = 20\n",
    "FirstStim = 8.0\n",
    "LastStim = 20.0\n",
    "Mp = np.zeros((Nsim, 1))\n",
    "Hp = np.zeros((Nsim, 1))\n",
    "Stim = np.zeros((Nsim, 1))\n",
    "emg = np.zeros([len(t), Nsim])\n",
    "\n",
    "pools = dict()\n",
    "pools[0] = MotorUnitPool(conf, 'SOL')\n",
    "pools[1] = AfferentPool(conf,'Ia', 'SOL')\n",
    "pools[2]= AfferentPool(conf,'Ia', 'LG')\n",
    "Syn = SynapsesFactory(conf, pools)\n",
    "del Syn "
   ]
  },
  {
   "cell_type": "code",
   "execution_count": null,
   "metadata": {
    "scrolled": true
   },
   "outputs": [
    {
     "name": "stdout",
     "output_type": "stream",
     "text": [
      "68.291784 seconds\n",
      "[ 0.]\n",
      "[ 0.]\n",
      "71.334566 seconds\n",
      "[ 0.]\n",
      "[ 0.]\n",
      "72.874988 seconds\n",
      "[ 0.]\n",
      "[ 0.]\n",
      "73.09774 seconds\n",
      "[ 0.]\n",
      "[ 0.]\n",
      "73.566518 seconds\n",
      "[ 0.]\n",
      "[ 0.]\n",
      "74.059681 seconds\n",
      "[ 0.]\n",
      "[ 0.04757641]\n",
      "74.103055 seconds\n",
      "[ 0.]\n",
      "[ 0.41199465]\n",
      "74.634585 seconds\n",
      "[ 0.]\n",
      "[ 0.97768795]\n",
      "74.879553 seconds\n",
      "[ 1.2538626]\n",
      "[ 1.73977336]\n"
     ]
    }
   ],
   "source": [
    "for j  in xrange(0, Nsim):\n",
    "    Stim[j] = FirstStim + j * (LastStim - FirstStim) / (Nsim - 1)\n",
    "    conf.changeConfigurationParameter('stimIntensity_PTN', FirstStim + j * (LastStim - FirstStim) / (Nsim - 1),'')\n",
    "    for k in xrange(0, len(pools)):\n",
    "        for i in xrange(0,len(pools[k].unit)):\n",
    "            pools[k].unit[i].createStimulus()\n",
    "    tic = time.clock()\n",
    "    for i in xrange(0, len(t)-1):\n",
    "        pools[0].atualizeMotorUnitPool(t[i])\n",
    "        pools[1].atualizeAfferentPool(t[i])\n",
    "        pools[2].atualizeAfferentPool(t[i])\n",
    "    toc = time.clock()\n",
    "    print str(toc - tic) + ' seconds'\n",
    "    pools[0].getMotorUnitPoolEMG()\n",
    "    Mp[j] = np.max(pools[0].emg[t<20]) - np.min(pools[0].emg[t<20])\n",
    "    Hp[j] = np.max(pools[0].emg[t>20]) - np.min(pools[0].emg[t>20])\n",
    "    print Mp[j]\n",
    "    print Hp[j]\n",
    "    emg[:,[j]] = pools[0].emg\n",
    "    for k in xrange(0, len(pools)):\n",
    "        pools[k].reset()"
   ]
  },
  {
   "cell_type": "code",
   "execution_count": null,
   "metadata": {},
   "outputs": [],
   "source": [
    "plt.figure()\n",
    "plt.plot(Stim, Hp, Stim, Mp)"
   ]
  },
  {
   "cell_type": "code",
   "execution_count": null,
   "metadata": {},
   "outputs": [],
   "source": [
    "np.max(Hp)/np.max(Mp)"
   ]
  },
  {
   "cell_type": "code",
   "execution_count": null,
   "metadata": {},
   "outputs": [],
   "source": [
    "Mp"
   ]
  },
  {
   "cell_type": "code",
   "execution_count": null,
   "metadata": {},
   "outputs": [],
   "source": [
    "plt.figure()\n",
    "plt.plot(t, emg[:,12])"
   ]
  },
  {
   "cell_type": "code",
   "execution_count": null,
   "metadata": {
    "collapsed": true
   },
   "outputs": [],
   "source": []
  }
 ],
 "metadata": {
  "kernelspec": {
   "display_name": "Python 2",
   "language": "python",
   "name": "python2"
  },
  "language_info": {
   "codemirror_mode": {
    "name": "ipython",
    "version": 2
   },
   "file_extension": ".py",
   "mimetype": "text/x-python",
   "name": "python",
   "nbconvert_exporter": "python",
   "pygments_lexer": "ipython2",
   "version": "2.7.13"
  }
 },
 "nbformat": 4,
 "nbformat_minor": 2
}
