{
 "cells": [
  {
   "cell_type": "code",
   "execution_count": 1,
   "metadata": {
    "nbpresent": {
     "id": "ceb8fa77-fcda-402d-82cb-f0a0edfee6ae"
    }
   },
   "outputs": [],
   "source": [
    "import sys\n",
    "sys.path.insert(0, '..')\n",
    "import time\n",
    "import matplotlib.pyplot as plt\n",
    "import matplotlib.gridspec as gridspec\n",
    "%matplotlib notebook  \n",
    "import numpy as np\n",
    "import papermill as pm\n",
    "\n",
    "from Configuration import Configuration\n",
    "from MotorUnitPool import MotorUnitPool\n",
    "from AfferentPool import AfferentPool\n",
    "from SynapsesFactory import SynapsesFactory"
   ]
  },
  {
   "cell_type": "code",
   "execution_count": 2,
   "metadata": {
    "collapsed": true,
    "nbpresent": {
     "id": "2a1dc27e-baa4-470f-85e6-edb0e014c93e"
    },
    "tags": [
     "parameters"
    ]
   },
   "outputs": [],
   "source": [
    "Nsim = 20\n",
    "FirstStim = 8.0\n",
    "LastStim = 20.0"
   ]
  },
  {
   "cell_type": "code",
   "execution_count": 3,
   "metadata": {
    "collapsed": true,
    "nbpresent": {
     "id": "3b7e3de7-df30-4804-993b-9cf0a42cdcef"
    }
   },
   "outputs": [],
   "source": [
    "conf = Configuration('confH-ReflexM-WaveCurve.rmto')"
   ]
  },
  {
   "cell_type": "code",
   "execution_count": 4,
   "metadata": {
    "nbpresent": {
     "id": "88425207-4a98-4eab-905b-8b94beb93225"
    }
   },
   "outputs": [
    {
     "name": "stdout",
     "output_type": "stream",
     "text": [
      "20\n",
      "8.0\n",
      "20.0\n"
     ]
    }
   ],
   "source": [
    "print Nsim\n",
    "print FirstStim\n",
    "print LastStim"
   ]
  },
  {
   "cell_type": "code",
   "execution_count": 5,
   "metadata": {
    "nbpresent": {
     "id": "d7de67fe-1949-4ad7-bf8c-61247f709bdc"
    }
   },
   "outputs": [
    {
     "name": "stdout",
     "output_type": "stream",
     "text": [
      "Muscle spindle from muscle SOL built.\n",
      "Motor Unit Pool SOL built\n",
      "Afferent Pool Ia of muscle SOL built\n",
      "Afferent Pool Ia of muscle LG built\n",
      "All the 345340 synapses were built\n",
      "All the 0 synaptic noises were built\n"
     ]
    }
   ],
   "source": [
    "t = np.arange(0.0, conf.simDuration_ms, conf.timeStep_ms)\n",
    "\n",
    "Mp = np.zeros((int(Nsim), 1))\n",
    "Hp = np.zeros((int(Nsim), 1))\n",
    "Stim = np.zeros((int(Nsim), 1))\n",
    "emg = np.zeros([len(t), int(Nsim)])\n",
    "pools = dict()\n",
    "pools[0] = MotorUnitPool(conf, 'SOL')\n",
    "pools[1] = AfferentPool(conf,'Ia', 'SOL')\n",
    "pools[2]= AfferentPool(conf,'Ia', 'LG')\n",
    "Syn = SynapsesFactory(conf, pools)\n",
    "del Syn "
   ]
  },
  {
   "cell_type": "code",
   "execution_count": 6,
   "metadata": {
    "nbpresent": {
     "id": "a82c7ba9-3585-418e-bb54-93415a6f5e9f"
    },
    "scrolled": true
   },
   "outputs": [
    {
     "name": "stdout",
     "output_type": "stream",
     "text": [
      "74.8070149422 seconds\n",
      "[ 0.]\n",
      "[ 0.]\n",
      "77.5281338692 seconds\n",
      "[ 0.]\n",
      "[ 0.]\n",
      "78.7344288826 seconds\n",
      "[ 0.]\n",
      "[ 0.]\n",
      "79.640171051 seconds\n",
      "[ 0.]\n",
      "[ 0.]\n",
      "80.1907718182 seconds\n",
      "[ 0.]\n",
      "[ 0.]\n",
      "80.5490009785 seconds\n",
      "[ 0.]\n",
      "[ 0.01846064]\n"
     ]
    },
    {
     "ename": "KeyboardInterrupt",
     "evalue": "",
     "output_type": "error",
     "traceback": [
      "\u001b[0;31m---------------------------------------------------------------------------\u001b[0m",
      "\u001b[0;31mKeyboardInterrupt\u001b[0m                         Traceback (most recent call last)",
      "\u001b[0;32m<ipython-input-6-ce9bf5b5ed09>\u001b[0m in \u001b[0;36m<module>\u001b[0;34m()\u001b[0m\n\u001b[1;32m      7\u001b[0m     \u001b[0mtic\u001b[0m \u001b[0;34m=\u001b[0m \u001b[0mtime\u001b[0m\u001b[0;34m.\u001b[0m\u001b[0mtime\u001b[0m\u001b[0;34m(\u001b[0m\u001b[0;34m)\u001b[0m\u001b[0;34m\u001b[0m\u001b[0m\n\u001b[1;32m      8\u001b[0m     \u001b[0;32mfor\u001b[0m \u001b[0mi\u001b[0m \u001b[0;32min\u001b[0m \u001b[0mxrange\u001b[0m\u001b[0;34m(\u001b[0m\u001b[0;36m0\u001b[0m\u001b[0;34m,\u001b[0m \u001b[0mlen\u001b[0m\u001b[0;34m(\u001b[0m\u001b[0mt\u001b[0m\u001b[0;34m)\u001b[0m\u001b[0;34m-\u001b[0m\u001b[0;36m1\u001b[0m\u001b[0;34m)\u001b[0m\u001b[0;34m:\u001b[0m\u001b[0;34m\u001b[0m\u001b[0m\n\u001b[0;32m----> 9\u001b[0;31m         \u001b[0mpools\u001b[0m\u001b[0;34m[\u001b[0m\u001b[0;36m0\u001b[0m\u001b[0;34m]\u001b[0m\u001b[0;34m.\u001b[0m\u001b[0matualizeMotorUnitPool\u001b[0m\u001b[0;34m(\u001b[0m\u001b[0mt\u001b[0m\u001b[0;34m[\u001b[0m\u001b[0mi\u001b[0m\u001b[0;34m]\u001b[0m\u001b[0;34m)\u001b[0m\u001b[0;34m\u001b[0m\u001b[0m\n\u001b[0m\u001b[1;32m     10\u001b[0m         \u001b[0mpools\u001b[0m\u001b[0;34m[\u001b[0m\u001b[0;36m1\u001b[0m\u001b[0;34m]\u001b[0m\u001b[0;34m.\u001b[0m\u001b[0matualizeAfferentPool\u001b[0m\u001b[0;34m(\u001b[0m\u001b[0mt\u001b[0m\u001b[0;34m[\u001b[0m\u001b[0mi\u001b[0m\u001b[0;34m]\u001b[0m\u001b[0;34m,\u001b[0m\u001b[0;36m0\u001b[0m\u001b[0;34m)\u001b[0m\u001b[0;34m\u001b[0m\u001b[0m\n\u001b[1;32m     11\u001b[0m         \u001b[0mpools\u001b[0m\u001b[0;34m[\u001b[0m\u001b[0;36m2\u001b[0m\u001b[0;34m]\u001b[0m\u001b[0;34m.\u001b[0m\u001b[0matualizeAfferentPool\u001b[0m\u001b[0;34m(\u001b[0m\u001b[0mt\u001b[0m\u001b[0;34m[\u001b[0m\u001b[0mi\u001b[0m\u001b[0;34m]\u001b[0m\u001b[0;34m,\u001b[0m\u001b[0;36m0\u001b[0m\u001b[0;34m)\u001b[0m\u001b[0;34m\u001b[0m\u001b[0m\n",
      "\u001b[0;32m/home/rnwatanabe/Documents/projectPR/MotorUnitPool.pyc\u001b[0m in \u001b[0;36matualizeMotorUnitPool\u001b[0;34m(self, t)\u001b[0m\n\u001b[1;32m    198\u001b[0m         '''\n\u001b[1;32m    199\u001b[0m \u001b[0;34m\u001b[0m\u001b[0m\n\u001b[0;32m--> 200\u001b[0;31m         \u001b[0mk1\u001b[0m \u001b[0;34m=\u001b[0m \u001b[0mself\u001b[0m\u001b[0;34m.\u001b[0m\u001b[0mdVdt\u001b[0m\u001b[0;34m(\u001b[0m\u001b[0mt\u001b[0m\u001b[0;34m,\u001b[0m \u001b[0mself\u001b[0m\u001b[0;34m.\u001b[0m\u001b[0mv_mV\u001b[0m\u001b[0;34m)\u001b[0m\u001b[0;34m\u001b[0m\u001b[0m\n\u001b[0m\u001b[1;32m    201\u001b[0m         \u001b[0mk2\u001b[0m \u001b[0;34m=\u001b[0m \u001b[0mself\u001b[0m\u001b[0;34m.\u001b[0m\u001b[0mdVdt\u001b[0m\u001b[0;34m(\u001b[0m\u001b[0mt\u001b[0m \u001b[0;34m+\u001b[0m \u001b[0mself\u001b[0m\u001b[0;34m.\u001b[0m\u001b[0mconf\u001b[0m\u001b[0;34m.\u001b[0m\u001b[0mtimeStepByTwo_ms\u001b[0m\u001b[0;34m,\u001b[0m \u001b[0mself\u001b[0m\u001b[0;34m.\u001b[0m\u001b[0mv_mV\u001b[0m \u001b[0;34m+\u001b[0m \u001b[0mself\u001b[0m\u001b[0;34m.\u001b[0m\u001b[0mconf\u001b[0m\u001b[0;34m.\u001b[0m\u001b[0mtimeStepByTwo_ms\u001b[0m \u001b[0;34m*\u001b[0m \u001b[0mk1\u001b[0m\u001b[0;34m)\u001b[0m\u001b[0;34m\u001b[0m\u001b[0m\n\u001b[1;32m    202\u001b[0m         \u001b[0mk3\u001b[0m \u001b[0;34m=\u001b[0m \u001b[0mself\u001b[0m\u001b[0;34m.\u001b[0m\u001b[0mdVdt\u001b[0m\u001b[0;34m(\u001b[0m\u001b[0mt\u001b[0m \u001b[0;34m+\u001b[0m \u001b[0mself\u001b[0m\u001b[0;34m.\u001b[0m\u001b[0mconf\u001b[0m\u001b[0;34m.\u001b[0m\u001b[0mtimeStepByTwo_ms\u001b[0m\u001b[0;34m,\u001b[0m \u001b[0mself\u001b[0m\u001b[0;34m.\u001b[0m\u001b[0mv_mV\u001b[0m \u001b[0;34m+\u001b[0m \u001b[0mself\u001b[0m\u001b[0;34m.\u001b[0m\u001b[0mconf\u001b[0m\u001b[0;34m.\u001b[0m\u001b[0mtimeStepByTwo_ms\u001b[0m \u001b[0;34m*\u001b[0m \u001b[0mk2\u001b[0m\u001b[0;34m)\u001b[0m\u001b[0;34m\u001b[0m\u001b[0m\n",
      "\u001b[0;32m/home/rnwatanabe/Documents/projectPR/MotorUnitPool.pyc\u001b[0m in \u001b[0;36mdVdt\u001b[0;34m(self, t, V)\u001b[0m\n\u001b[1;32m    224\u001b[0m             \u001b[0;32mfor\u001b[0m \u001b[0mj\u001b[0m \u001b[0;32min\u001b[0m \u001b[0mxrange\u001b[0m\u001b[0;34m(\u001b[0m\u001b[0mself\u001b[0m\u001b[0;34m.\u001b[0m\u001b[0munit\u001b[0m\u001b[0;34m[\u001b[0m\u001b[0mi\u001b[0m\u001b[0;34m]\u001b[0m\u001b[0;34m.\u001b[0m\u001b[0mcompNumber\u001b[0m\u001b[0;34m)\u001b[0m\u001b[0;34m:\u001b[0m\u001b[0;34m\u001b[0m\u001b[0m\n\u001b[1;32m    225\u001b[0m                 self.iIonic.itemset(k,\n\u001b[0;32m--> 226\u001b[0;31m                                     self.unit[i].compartment[j].computeCurrent(t,\n\u001b[0m\u001b[1;32m    227\u001b[0m                                                                                V.item(k)))\n\u001b[1;32m    228\u001b[0m                 \u001b[0mk\u001b[0m \u001b[0;34m+=\u001b[0m \u001b[0;36m1\u001b[0m\u001b[0;34m\u001b[0m\u001b[0m\n",
      "\u001b[0;31mKeyboardInterrupt\u001b[0m: "
     ]
    }
   ],
   "source": [
    "for j  in xrange(0, int(Nsim)):\n",
    "    Stim[j] = FirstStim + j * (LastStim - FirstStim) / (Nsim - 1)\n",
    "    conf.changeConfigurationParameter('stimIntensity_PTN', FirstStim + j * (LastStim - FirstStim) / (Nsim - 1),'')\n",
    "    for k in xrange(0, len(pools)):\n",
    "        for i in xrange(0,len(pools[k].unit)):\n",
    "            pools[k].unit[i].createStimulus()\n",
    "    tic = time.time()\n",
    "    for i in xrange(0, len(t)-1):\n",
    "        pools[0].atualizeMotorUnitPool(t[i])\n",
    "        pools[1].atualizeAfferentPool(t[i],0)\n",
    "        pools[2].atualizeAfferentPool(t[i],0)\n",
    "    toc = time.time()\n",
    "    print str(toc - tic) + ' seconds'\n",
    "    pools[0].getMotorUnitPoolEMG()\n",
    "    Mp[j] = np.max(pools[0].emg[t<20]) - np.min(pools[0].emg[t<20])\n",
    "    Hp[j] = np.max(pools[0].emg[t>20]) - np.min(pools[0].emg[t>20])\n",
    "    print Mp[j]\n",
    "    print Hp[j]\n",
    "    emg[:,[j]] = pools[0].emg\n",
    "    pools[0].listSpikes()\n",
    "    pools[1].listSpikes()\n",
    "    pools[2].listSpikes()\n",
    "    sp1 = pools[0].poolTerminalSpikes\n",
    "    sp2 = pools[1].poolTerminalSpikes\n",
    "    sp2 = pools[2].poolTerminalSpikes\n",
    "    for k in xrange(0, len(pools)):\n",
    "        pools[k].reset()"
   ]
  },
  {
   "cell_type": "code",
   "execution_count": null,
   "metadata": {
    "nbpresent": {
     "id": "28a31372-e14e-4a5d-ab91-176e8d67f5b3"
    }
   },
   "outputs": [],
   "source": [
    "f1 = plt.figure()\n",
    "plt.plot(Stim, Hp, Stim, Mp)\n",
    "pm.display('mHcurves', f1)"
   ]
  },
  {
   "cell_type": "code",
   "execution_count": null,
   "metadata": {
    "nbpresent": {
     "id": "2e4fa5b6-e721-4d15-bffe-fc01b51e76d4"
    }
   },
   "outputs": [],
   "source": [
    "np.max(Hp)/np.max(Mp)"
   ]
  },
  {
   "cell_type": "code",
   "execution_count": null,
   "metadata": {
    "nbpresent": {
     "id": "c458e85d-bc14-439e-a8a7-6b5cba7e37a3"
    }
   },
   "outputs": [],
   "source": [
    "Mp"
   ]
  },
  {
   "cell_type": "code",
   "execution_count": null,
   "metadata": {
    "nbpresent": {
     "id": "fe0f534e-be7c-4ae9-8dd2-6799162768c2"
    }
   },
   "outputs": [],
   "source": [
    "f2 = plt.figure()\n",
    "plt.plot(t, emg[:,19])\n",
    "pm.display('mhsignal', f2)"
   ]
  },
  {
   "cell_type": "code",
   "execution_count": null,
   "metadata": {
    "collapsed": true,
    "nbpresent": {
     "id": "521563b4-1df6-4c83-8fa1-366d4437b6ad"
    }
   },
   "outputs": [],
   "source": [
    "pools[0].listSpikes()"
   ]
  },
  {
   "cell_type": "code",
   "execution_count": null,
   "metadata": {
    "nbpresent": {
     "id": "a221a763-9a21-4442-952b-2e686979dae3"
    },
    "scrolled": true
   },
   "outputs": [],
   "source": [
    "f3 = plt.figure()\n",
    "plt.plot(sp1[:, 0],\n",
    "    sp1[:, 1]+1, '.')\n",
    "plt.xlabel('t (ms)')\n",
    "plt.ylabel('Motor Unit index')\n",
    "pm.display('MNspikes', f3)"
   ]
  },
  {
   "cell_type": "code",
   "execution_count": null,
   "metadata": {
    "nbpresent": {
     "id": "fb42f6a8-36e8-4fe9-82f1-fa50952483c5"
    }
   },
   "outputs": [],
   "source": [
    "pools[0].poolTerminalSpikes[:, 1]"
   ]
  },
  {
   "cell_type": "code",
   "execution_count": null,
   "metadata": {
    "collapsed": true,
    "nbpresent": {
     "id": "b5344c29-c72a-42fd-a899-4214ac92b944"
    }
   },
   "outputs": [],
   "source": []
  }
 ],
 "metadata": {
  "celltoolbar": "Tags",
  "kernelspec": {
   "display_name": "Python 2",
   "language": "python",
   "name": "python2"
  },
  "language_info": {
   "codemirror_mode": {
    "name": "ipython",
    "version": 2
   },
   "file_extension": ".py",
   "mimetype": "text/x-python",
   "name": "python",
   "nbconvert_exporter": "python",
   "pygments_lexer": "ipython2",
   "version": "2.7.14"
  }
 },
 "nbformat": 4,
 "nbformat_minor": 2
}
