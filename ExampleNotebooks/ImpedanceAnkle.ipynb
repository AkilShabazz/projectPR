{
 "cells": [
  {
   "cell_type": "markdown",
   "metadata": {},
   "source": [
    "This notebook presents a simulation of 5000 ms of 400 descending commands and 800 motoneurons from soleus. The force is prduced by a Hill-type muscle model. "
   ]
  },
  {
   "cell_type": "code",
   "execution_count": 1,
   "metadata": {
    "collapsed": true
   },
   "outputs": [],
   "source": [
    "import sys\n",
    "sys.path.insert(0, '..')\n",
    "import time\n",
    "import matplotlib.pyplot as plt\n",
    "%matplotlib notebook \n",
    "from IPython.display import set_matplotlib_formats\n",
    "set_matplotlib_formats('pdf', 'png')\n",
    "plt.rcParams['savefig.dpi'] = 75\n",
    "\n",
    "plt.rcParams['figure.autolayout'] = False\n",
    "plt.rcParams['figure.figsize'] = 10, 6\n",
    "plt.rcParams['axes.labelsize'] = 18\n",
    "plt.rcParams['axes.titlesize'] = 20\n",
    "plt.rcParams['font.size'] = 16\n",
    "plt.rcParams['lines.linewidth'] = 2.0\n",
    "plt.rcParams['lines.markersize'] = 8\n",
    "plt.rcParams['legend.fontsize'] = 14\n",
    "\n",
    "plt.rcParams['text.usetex'] = True\n",
    "plt.rcParams['font.family'] = \"serif\"\n",
    "plt.rcParams['font.serif'] = \"cm\"\n",
    "plt.rcParams['text.latex.preamble'] = \"\\usepackage{subdepth}, \\usepackage{type1cm}\"\n",
    "\n",
    "\n",
    "import numpy as np\n",
    "\n",
    "from Configuration import Configuration\n",
    "from MotorUnitPool import MotorUnitPool\n",
    "from NeuralTract import NeuralTract\n",
    "from AfferentPool import AfferentPool\n",
    "from SynapsesFactory import SynapsesFactory\n",
    "from jointAnkleForceTask import jointAnkleForceTask\n",
    "from numba import jit, prange\n",
    "import scipy as sc\n",
    "from scipy.signal import *\n"
   ]
  },
  {
   "cell_type": "code",
   "execution_count": 2,
   "metadata": {
    "collapsed": true
   },
   "outputs": [],
   "source": [
    "b,a = sc.signal.butter(2,50.0/(10000))\n",
    "disturbance = np.transpose(sc.signal.filtfilt(b,a,sc.random.randn(1,int(20000*60))))"
   ]
  },
  {
   "cell_type": "code",
   "execution_count": 3,
   "metadata": {
    "collapsed": true
   },
   "outputs": [],
   "source": [
    "conf = Configuration('confImpedanceAnkle.rmto')\n",
    "conf.simDuration_ms = 30000 # Here I change simulation duration without changing the Configuration file.\n",
    "t = np.arange(0.0, conf.simDuration_ms, conf.timeStep_ms)"
   ]
  },
  {
   "cell_type": "code",
   "execution_count": null,
   "metadata": {},
   "outputs": [
    {
     "name": "stdout",
     "output_type": "stream",
     "text": [
      "Hill muscle of the SOL muscle with maximum force of 3586.0 N  built.\n",
      "Muscle spindle from muscle SOL built.\n",
      "Motor Unit Pool SOL built\n",
      "Hill muscle of the MG muscle with maximum force of 1306.0 N  built.\n",
      "Muscle spindle from muscle MG built.\n",
      "Motor Unit Pool MG built\n",
      "Hill muscle of the LG muscle with maximum force of 606.0 N  built.\n",
      "Muscle spindle from muscle LG built.\n",
      "Motor Unit Pool LG built\n",
      "Hill muscle of the TA muscle with maximum force of 674.0 N  built.\n",
      "Muscle spindle from muscle TA built.\n",
      "Motor Unit Pool TA built\n",
      "Descending Command CMExt built\n",
      "Afferent Pool Ia of muscle SOL built\n",
      "Afferent Pool Ia of muscle MG built\n",
      "Afferent Pool Ia of muscle LG built\n",
      "Afferent Pool Ia of muscle TA built\n",
      "Ankle joint for Force Task built\n",
      "All the 739484 synapses were built\n",
      "All the 0 synaptic noises were built\n"
     ]
    }
   ],
   "source": [
    "pools = dict()\n",
    "pools[0] = MotorUnitPool(conf, 'SOL')\n",
    "pools[1] = MotorUnitPool(conf, 'MG')\n",
    "pools[2] = MotorUnitPool(conf, 'LG')\n",
    "pools[3] = MotorUnitPool(conf, 'TA')\n",
    "pools[4] = NeuralTract(conf, 'CMExt')\n",
    "pools[5] = AfferentPool(conf,'Ia', 'SOL')\n",
    "pools[6] = AfferentPool(conf,'Ia', 'MG')\n",
    "pools[7] = AfferentPool(conf,'Ia', 'LG')\n",
    "pools[8] = AfferentPool(conf,'Ia', 'TA')\n",
    "ankle = jointAnkleForceTask(conf, pools)\n",
    "Syn = SynapsesFactory(conf, pools)\n",
    "del Syn"
   ]
  },
  {
   "cell_type": "code",
   "execution_count": null,
   "metadata": {},
   "outputs": [
    {
     "name": "stdout",
     "output_type": "stream",
     "text": [
      "0.0 neural seconds\n",
      "1.0 neural seconds\n",
      "2.0 neural seconds\n",
      "3.0 neural seconds\n",
      "4.0 neural seconds\n",
      "5.0 neural seconds\n",
      "6.0 neural seconds\n",
      "7.0 neural seconds\n",
      "8.0 neural seconds\n",
      "9.0 neural seconds\n",
      "10.0 neural seconds\n",
      "11.0 neural seconds\n",
      "12.0 neural seconds\n",
      "13.0 neural seconds\n",
      "14.0 neural seconds\n",
      "15.0 neural seconds\n",
      "16.0 neural seconds\n",
      "17.0 neural seconds\n",
      "18.0 neural seconds\n",
      "19.0 neural seconds\n",
      "20.0 neural seconds\n",
      "21.0 neural seconds\n",
      "22.0 neural seconds\n",
      "23.0 neural seconds\n",
      "24.0 neural seconds\n",
      "25.0 neural seconds\n",
      "26.0 neural seconds\n",
      "27.0 neural seconds\n",
      "28.0 neural seconds\n",
      "29.0 neural seconds\n"
     ]
    }
   ],
   "source": [
    "tic = time.time()\n",
    "for i in xrange(0,len(t)-1): \n",
    "    if i % 20000 == 0:\n",
    "        print str(i/20000.0) + ' neural seconds'\n",
    "    ankle.atualizeAnkle(t[i], 0.25 * disturbance[i])\n",
    "    #pools[4].atualizePool(t[i])\n",
    "    for j in xrange(4):\n",
    "        pools[j].atualizeMotorUnitPool(t[i])\n",
    "    #pools[5].atualizeAfferentPool(t[i], pools[0].spindle.IaFR_Hz)\n",
    "    #pools[6].atualizeAfferentPool(t[i], pools[1].spindle.IaFR_Hz)\n",
    "    #pools[7].atualizeAfferentPool(t[i], pools[2].spindle.IaFR_Hz)\n",
    "    #pools[8].atualizeAfferentPool(t[i], pools[3].spindle.IaFR_Hz)\n",
    "    ankle.computeTorque(t[i])\n",
    "toc = time.time() \n",
    "    \n",
    "print str(toc - tic) + ' seconds'"
   ]
  },
  {
   "cell_type": "code",
   "execution_count": null,
   "metadata": {},
   "outputs": [],
   "source": [
    "print str(toc - tic) + ' seconds'\n",
    "pools[0].listSpikes()\n",
    "pools[1].listSpikes()\n",
    "pools[2].listSpikes()\n",
    "pools[3].listSpikes()\n",
    "pools[4].listSpikes()\n",
    "pools[5].listSpikes()\n",
    "pools[6].listSpikes()\n",
    "pools[7].listSpikes()\n",
    "pools[8].listSpikes()"
   ]
  },
  {
   "cell_type": "markdown",
   "metadata": {},
   "source": [
    "The spike times of the MNs along the 5000 ms of simulation are shown in Fig. \\ref{fig:spikesMNHill}."
   ]
  },
  {
   "cell_type": "code",
   "execution_count": null,
   "metadata": {
    "caption": "Spike times of all motoneurons along the 5000 ms of simulation.",
    "label": "fig:spikesMNHill",
    "scrolled": true,
    "widefigure": true
   },
   "outputs": [],
   "source": [
    "plt.figure()\n",
    "plt.plot(pools[0].poolTerminalSpikes[:, 0],\n",
    "         pools[0].poolTerminalSpikes[:, 1]+1, '.')\n",
    "plt.xlabel('t (ms)')\n",
    "plt.ylabel('Motor Unit index')\n",
    "plt.show()"
   ]
  },
  {
   "cell_type": "code",
   "execution_count": null,
   "metadata": {},
   "outputs": [],
   "source": [
    "plt.figure()\n",
    "plt.plot(pools[2].poolTerminalSpikes[:, 0],\n",
    "         pools[2].poolTerminalSpikes[:, 1]+1, '.')\n",
    "plt.xlabel('t (ms)')\n",
    "plt.ylabel('Afferent index')"
   ]
  },
  {
   "cell_type": "markdown",
   "metadata": {},
   "source": [
    "The muscle force produced by the Hill-type model is shown in Fig.\\ref{fig:forceHill}."
   ]
  },
  {
   "cell_type": "code",
   "execution_count": null,
   "metadata": {
    "caption": "Muscle force during the simulation.",
    "label": "fig:forceHill",
    "widefigure": true
   },
   "outputs": [],
   "source": [
    "plt.figure()\n",
    "plt.plot(t, pools[0].Muscle.force, '-')\n",
    "plt.xlabel('t (ms)')\n",
    "plt.ylabel('Muscle Force (N)')\n",
    "plt.show()"
   ]
  },
  {
   "cell_type": "markdown",
   "metadata": {},
   "source": [
    "The muscle length computed with the Hill-type model is shown in Fig.\\ref{fig:lengthHill}."
   ]
  },
  {
   "cell_type": "code",
   "execution_count": null,
   "metadata": {
    "caption": "Muscle length along the 5000 ms of simulation.",
    "label": "fig:lengthHill",
    "widefigure": true
   },
   "outputs": [],
   "source": [
    "plt.figure()\n",
    "plt.plot(t, pools[0].Muscle.length_m/pools[0].Muscle.optimalLength_m, '-')\n",
    "plt.xlabel('t (ms)')\n",
    "plt.ylabel('Muscle Length (m)')\n",
    "plt.show()"
   ]
  },
  {
   "cell_type": "markdown",
   "metadata": {},
   "source": [
    "The muscle velocity, computed by the Hill-type muscle model, is in Fig.\\ref{fig:velocityHill}."
   ]
  },
  {
   "cell_type": "code",
   "execution_count": null,
   "metadata": {
    "caption": "Velocity os muscle length variation during the simulation.",
    "label": "fig:VelocityHill",
    "widefigure": true
   },
   "outputs": [],
   "source": [
    "plt.figure()\n",
    "plt.plot(t, pools[0].Muscle.velocity_m_ms/pools[0].Muscle.optimalLength_m, '-')\n",
    "plt.xlabel('t (ms)')\n",
    "plt.ylabel('Muscle Velocity (m/ms)')\n",
    "plt.show()"
   ]
  },
  {
   "cell_type": "markdown",
   "metadata": {},
   "source": [
    "The ankle joint angle is shown in Fig. \\ref{fig:ankleAngleHill}."
   ]
  },
  {
   "cell_type": "code",
   "execution_count": null,
   "metadata": {
    "caption": "Ankle angle during the 5000 ms of simulation.",
    "label": "fig:ankleAngleHill",
    "widefigure": true
   },
   "outputs": [],
   "source": [
    "plt.figure()\n",
    "plt.plot(t, ankle.ankleAngle_rad*180.0/np.pi, '-')\n",
    "plt.xlabel('t (ms)')\n",
    "plt.ylabel('Ankle angle (degree)')\n",
    "plt.show()"
   ]
  },
  {
   "cell_type": "code",
   "execution_count": null,
   "metadata": {},
   "outputs": [],
   "source": [
    "%matplotlib notebook\n",
    "plt.figure()\n",
    "plt.plot(t, ankle.ankleTorque_Nm, '-')\n",
    "plt.xlabel('t (ms)')\n",
    "plt.ylabel('Ankle torque (N.m)')"
   ]
  },
  {
   "cell_type": "code",
   "execution_count": null,
   "metadata": {
    "collapsed": true
   },
   "outputs": [],
   "source": [
    "torque  = (-ankle.ankleTorque_Nm[40000:int(29.5*20000)])\n",
    "angle = (ankle.ankleAngle_rad[40000:int(29.5*20000)])"
   ]
  },
  {
   "cell_type": "code",
   "execution_count": null,
   "metadata": {
    "collapsed": true
   },
   "outputs": [],
   "source": [
    "window = 160000\n",
    "f, Sta = sc.signal.csd(np.transpose((angle)),np.transpose((torque)),fs = 20000, nperseg=window)\n",
    "f, St = sc.signal.welch(np.transpose((torque)),fs = 20000, nperseg=window)\n",
    "f, Sa = sc.signal.welch(np.transpose((angle)),fs = 20000, nperseg=window)\n",
    "Z= Sta/Sa"
   ]
  },
  {
   "cell_type": "code",
   "execution_count": null,
   "metadata": {},
   "outputs": [],
   "source": [
    "plt.figure()\n",
    "plt.plot(np.log10(f),20*np.log10(np.transpose(np.abs(Sa))))\n",
    "plt.xlim((-1,1.4))\n",
    "#plt.ylim((-20,70))\n",
    "plt.show()"
   ]
  },
  {
   "cell_type": "code",
   "execution_count": null,
   "metadata": {},
   "outputs": [],
   "source": [
    "plt.figure()\n",
    "plt.plot(np.log10(f),(np.transpose(np.angle(Z)))*180/np.pi)\n",
    "plt.xlim((-1,1.4))\n",
    "plt.ylim((-0,180))\n",
    "plt.show()"
   ]
  },
  {
   "cell_type": "code",
   "execution_count": null,
   "metadata": {
    "collapsed": true
   },
   "outputs": [],
   "source": [
    "torquePassive = torque\n",
    "anglePassive = angle"
   ]
  },
  {
   "cell_type": "code",
   "execution_count": null,
   "metadata": {},
   "outputs": [],
   "source": [
    "plt.figure()\n",
    "plt.plot((f),(np.transpose(np.abs(Sta))))\n",
    "plt.xlim((-0.5,21.5))\n",
    "plt.show()"
   ]
  },
  {
   "cell_type": "code",
   "execution_count": null,
   "metadata": {},
   "outputs": [],
   "source": [
    "plt.figure()\n",
    "plt.plot((f),(np.transpose(np.abs(Sa))))\n",
    "plt.xlim((-1,20))\n",
    "plt.show()"
   ]
  },
  {
   "cell_type": "code",
   "execution_count": null,
   "metadata": {
    "collapsed": true
   },
   "outputs": [],
   "source": []
  }
 ],
 "metadata": {
  "celltoolbar": "Edit Metadata",
  "kernelspec": {
   "display_name": "Python 2",
   "language": "python",
   "name": "python2"
  },
  "language_info": {
   "codemirror_mode": {
    "name": "ipython",
    "version": 2
   },
   "file_extension": ".py",
   "mimetype": "text/x-python",
   "name": "python",
   "nbconvert_exporter": "python",
   "pygments_lexer": "ipython2",
   "version": "2.7.14"
  }
 },
 "nbformat": 4,
 "nbformat_minor": 1
}
