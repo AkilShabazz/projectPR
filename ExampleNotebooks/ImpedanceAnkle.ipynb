{
 "cells": [
  {
   "cell_type": "markdown",
   "metadata": {},
   "source": [
    "This notebook presents a simulation of 5000 ms of 400 descending commands and 800 motoneurons from soleus. The force is prduced by a Hill-type muscle model. "
   ]
  },
  {
   "cell_type": "code",
   "execution_count": 1,
   "metadata": {
    "collapsed": true
   },
   "outputs": [],
   "source": [
    "import sys\n",
    "sys.path.insert(0, '..')\n",
    "import time\n",
    "import matplotlib.pyplot as plt\n",
    "%matplotlib notebook \n",
    "from IPython.display import set_matplotlib_formats\n",
    "set_matplotlib_formats('pdf', 'png')\n",
    "plt.rcParams['savefig.dpi'] = 75\n",
    "\n",
    "plt.rcParams['figure.autolayout'] = False\n",
    "plt.rcParams['figure.figsize'] = 10, 6\n",
    "plt.rcParams['axes.labelsize'] = 18\n",
    "plt.rcParams['axes.titlesize'] = 20\n",
    "plt.rcParams['font.size'] = 16\n",
    "plt.rcParams['lines.linewidth'] = 2.0\n",
    "plt.rcParams['lines.markersize'] = 8\n",
    "plt.rcParams['legend.fontsize'] = 14\n",
    "\n",
    "plt.rcParams['text.usetex'] = True\n",
    "plt.rcParams['font.family'] = \"serif\"\n",
    "plt.rcParams['font.serif'] = \"cm\"\n",
    "plt.rcParams['text.latex.preamble'] = \"\\usepackage{subdepth}, \\usepackage{type1cm}\"\n",
    "\n",
    "\n",
    "import numpy as np\n",
    "\n",
    "from Configuration import Configuration\n",
    "from MotorUnitPool import MotorUnitPool\n",
    "from NeuralTract import NeuralTract\n",
    "from AfferentPool import AfferentPool\n",
    "from SynapsesFactory import SynapsesFactory\n",
    "from jointAnkleForceTask import jointAnkleForceTask"
   ]
  },
  {
   "cell_type": "code",
   "execution_count": 2,
   "metadata": {},
   "outputs": [],
   "source": [
    "conf = Configuration('confIsometricClosedLoop.rmto')\n",
    "conf.simDuration_ms = 2000 # Here I change simulation duration without changing the Configuration file.\n",
    "t = np.arange(0.0, conf.simDuration_ms, conf.timeStep_ms)"
   ]
  },
  {
   "cell_type": "code",
   "execution_count": null,
   "metadata": {},
   "outputs": [
    {
     "name": "stdout",
     "output_type": "stream",
     "text": [
      "3586.0\n",
      "Muscle spindle from muscle SOL built.\n",
      "Motor Unit Pool SOL built\n",
      "Descending Command CMExt built\n",
      "Afferent Pool Ia of muscle SOL built\n",
      "All the 432305 synapses were built\n"
     ]
    }
   ],
   "source": [
    "pools = dict()\n",
    "pools[0] = MotorUnitPool(conf, 'SOL')\n",
    "pools[1] = NeuralTract(conf, 'CMExt')\n",
    "pools[2] = AfferentPool(conf,'Ia', 'SOL')\n",
    "ankle = jointAnkleForceTask(conf, pools)\n",
    "Syn = SynapsesFactory(conf, pools)\n",
    "del Syn"
   ]
  },
  {
   "cell_type": "code",
   "execution_count": null,
   "metadata": {},
   "outputs": [],
   "source": [
    "IaFR = np.zeros([len(t), 1])\n",
    "tic = time.clock()\n",
    "for i in xrange(0,len(t)-1): \n",
    "    ankle.atualizeAnkle(t[i], 0.1 * np.sin(2*np.pi*t[i]/1000.0))\n",
    "    pools[1].atualizePool(t[i])\n",
    "    pools[0].atualizeMotorUnitPool(t[i])\n",
    "    pools[2].atualizeAfferentPool(t[i], pools[0].spindle.IaFR_Hz)\n",
    "    ankle.computeTorque(t[i])\n",
    "    IaFR[i] = pools[0].spindle.IaFR_Hz\n",
    "toc = time.clock()\n",
    "print str(toc - tic) + ' seconds'"
   ]
  },
  {
   "cell_type": "code",
   "execution_count": null,
   "metadata": {
    "collapsed": true
   },
   "outputs": [],
   "source": [
    "pools[0].listSpikes()\n",
    "pools[1].listSpikes()\n",
    "pools[2].listSpikes()"
   ]
  },
  {
   "cell_type": "markdown",
   "metadata": {},
   "source": [
    "The spike times of the MNs along the 5000 ms of simulation are shown in Fig. \\ref{fig:spikesMNHill}."
   ]
  },
  {
   "cell_type": "code",
   "execution_count": null,
   "metadata": {
    "caption": "Spike times of all motoneurons along the 5000 ms of simulation.",
    "label": "fig:spikesMNHill",
    "scrolled": true,
    "widefigure": true
   },
   "outputs": [],
   "source": [
    "plt.figure()\n",
    "plt.plot(pools[0].poolTerminalSpikes[:, 0],\n",
    "    pools[0].poolTerminalSpikes[:, 1]+1, '.')\n",
    "plt.xlabel('t (ms)')\n",
    "plt.ylabel('Motor Unit index')"
   ]
  },
  {
   "cell_type": "code",
   "execution_count": null,
   "metadata": {},
   "outputs": [],
   "source": [
    "plt.figure()\n",
    "plt.plot(pools[2].poolTerminalSpikes[:, 0],\n",
    "    pools[2].poolTerminalSpikes[:, 1]+1, '.')\n",
    "plt.xlabel('t (ms)')\n",
    "plt.ylabel('Afferent index')"
   ]
  },
  {
   "cell_type": "markdown",
   "metadata": {},
   "source": [
    "The muscle force produced by the Hill-type model is shown in Fig.\\ref{fig:forceHill}."
   ]
  },
  {
   "cell_type": "code",
   "execution_count": null,
   "metadata": {
    "caption": "Muscle force during the simulation.",
    "label": "fig:forceHill",
    "widefigure": true
   },
   "outputs": [],
   "source": [
    "plt.figure()\n",
    "plt.plot(t, pools[0].Muscle.force, '-')\n",
    "plt.xlabel('t (ms)')\n",
    "plt.ylabel('Muscle Force (N)')"
   ]
  },
  {
   "cell_type": "markdown",
   "metadata": {},
   "source": [
    "The muscle length computed with the Hill-type model is shown in Fig.\\ref{fig:lengthHill}."
   ]
  },
  {
   "cell_type": "code",
   "execution_count": null,
   "metadata": {
    "caption": "Muscle length along the 5000 ms of simulation.",
    "label": "fig:lengthHill",
    "widefigure": true
   },
   "outputs": [],
   "source": [
    "plt.figure()\n",
    "plt.plot(t, pools[0].Muscle.length_m/pools[0].Muscle.optimalLength_m, '-')\n",
    "plt.xlabel('t (ms)')\n",
    "plt.ylabel('Muscle Length (m)')"
   ]
  },
  {
   "cell_type": "markdown",
   "metadata": {},
   "source": [
    "The muscle velocity, computed by the Hill-type muscle model, is in Fig.\\ref{fig:velocityHill}."
   ]
  },
  {
   "cell_type": "code",
   "execution_count": null,
   "metadata": {
    "caption": "Velocity os muscle length variation during the simulation.",
    "label": "fig:VelocityHill",
    "widefigure": true
   },
   "outputs": [],
   "source": [
    "plt.figure()\n",
    "plt.plot(t, pools[0].Muscle.velocity_m_ms/pools[0].Muscle.optimalLength_m, '-')\n",
    "plt.xlabel('t (ms)')\n",
    "plt.ylabel('Muscle Velocity (m/ms)')"
   ]
  },
  {
   "cell_type": "markdown",
   "metadata": {},
   "source": [
    "The ankle joint angle is shown in Fig. \\ref{fig:ankleAngleHill}."
   ]
  },
  {
   "cell_type": "code",
   "execution_count": null,
   "metadata": {
    "caption": "Ankle angle during the 5000 ms of simulation.",
    "label": "fig:ankleAngleHill",
    "widefigure": true
   },
   "outputs": [],
   "source": [
    "plt.figure()\n",
    "plt.plot(t, ankle.ankleAngle_rad*180.0/np.pi, '-')\n",
    "plt.xlabel('t (ms)')\n",
    "plt.ylabel('Ankle angle (degree)')"
   ]
  },
  {
   "cell_type": "code",
   "execution_count": null,
   "metadata": {},
   "outputs": [],
   "source": [
    "plt.figure()\n",
    "plt.plot(t, IaFR, '-')\n",
    "plt.xlabel('t (ms)')\n",
    "plt.ylabel('Ankle angle (degree)')"
   ]
  },
  {
   "cell_type": "code",
   "execution_count": null,
   "metadata": {},
   "outputs": [],
   "source": [
    "plt.figure()\n",
    "plt.plot(t, ankle.ankleTorque_Nm, '-')\n",
    "plt.xlabel('t (ms)')\n",
    "plt.ylabel('Ankle angle (degree)')"
   ]
  },
  {
   "cell_type": "code",
   "execution_count": null,
   "metadata": {
    "collapsed": true
   },
   "outputs": [],
   "source": []
  }
 ],
 "metadata": {
  "celltoolbar": "Edit Metadata",
  "kernelspec": {
   "display_name": "Python 2",
   "language": "python",
   "name": "python2"
  },
  "language_info": {
   "codemirror_mode": {
    "name": "ipython",
    "version": 2
   },
   "file_extension": ".py",
   "mimetype": "text/x-python",
   "name": "python",
   "nbconvert_exporter": "python",
   "pygments_lexer": "ipython2",
   "version": "2.7.13"
  }
 },
 "nbformat": 4,
 "nbformat_minor": 1
}
