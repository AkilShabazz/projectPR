{
 "cells": [
  {
   "cell_type": "markdown",
   "metadata": {},
   "source": [
    "This notebook is a simulation of 5000 ms of the Soleus muscle (800 motoneurons) with injected current. "
   ]
  },
  {
   "cell_type": "code",
   "execution_count": 1,
   "metadata": {
    "collapsed": true
   },
   "outputs": [],
   "source": [
    "import sys\n",
    "sys.path.insert(0, '..')\n",
    "import time\n",
    "import matplotlib.pyplot as plt\n",
    "%matplotlib inline  \n",
    "import numpy as np\n",
    "\n",
    "from Configuration import Configuration\n",
    "from MotorUnitPool import MotorUnitPool"
   ]
  },
  {
   "cell_type": "code",
   "execution_count": 2,
   "metadata": {
    "collapsed": true
   },
   "outputs": [],
   "source": [
    "conf = Configuration('confMotorUnitPoolEMG.rmto')\n",
    "conf.simDuration_ms = 500 # Here I change simulation duration without changing the Configuration file."
   ]
  },
  {
   "cell_type": "code",
   "execution_count": 3,
   "metadata": {
    "collapsed": true
   },
   "outputs": [],
   "source": [
    "t = np.arange(0.0, conf.simDuration_ms, conf.timeStep_ms)"
   ]
  },
  {
   "cell_type": "code",
   "execution_count": 4,
   "metadata": {},
   "outputs": [
    {
     "name": "stdout",
     "output_type": "stream",
     "text": [
      "Muscle spindle from muscle SOL built.\n",
      "Motor Unit Pool SOL built\n"
     ]
    }
   ],
   "source": [
    "pools = dict()\n",
    "pools[0] = MotorUnitPool(conf, 'SOL')"
   ]
  },
  {
   "cell_type": "code",
   "execution_count": null,
   "metadata": {},
   "outputs": [],
   "source": [
    "tic = time.clock()\n",
    "for i in xrange(0, len(t)-1):\n",
    "    for j in xrange(len(pools[0].unit)):\n",
    "        pools[0].unit[j].iInjected[1] = 10\n",
    "    pools[0].atualizeMotorUnitPool(t[i])\n",
    "toc = time.clock()\n",
    "print str(toc - tic) + ' seconds'"
   ]
  },
  {
   "cell_type": "code",
   "execution_count": null,
   "metadata": {
    "collapsed": true
   },
   "outputs": [],
   "source": [
    "pools[0].listSpikes()"
   ]
  },
  {
   "cell_type": "code",
   "execution_count": null,
   "metadata": {
    "collapsed": true
   },
   "outputs": [],
   "source": [
    "plt.figure()\n",
    "plt.plot(pools[0].poolTerminalSpikes[:, 0],\n",
    "         pools[0].poolTerminalSpikes[:, 1] + 1, '.')\n",
    "plt.xlabel('t (ms)')\n",
    "plt.ylabel('Motor Unit index')"
   ]
  },
  {
   "cell_type": "code",
   "execution_count": null,
   "metadata": {
    "collapsed": true
   },
   "outputs": [],
   "source": [
    "plt.figure()\n",
    "plt.plot(t, pools[0].Muscle.force, '-')\n",
    "plt.xlabel('t (ms)')\n",
    "plt.ylabel('Muscle Force (N)')"
   ]
  },
  {
   "cell_type": "code",
   "execution_count": null,
   "metadata": {
    "collapsed": true
   },
   "outputs": [],
   "source": [
    "pools[0].getMotorUnitPoolEMG()"
   ]
  },
  {
   "cell_type": "code",
   "execution_count": null,
   "metadata": {
    "collapsed": true
   },
   "outputs": [],
   "source": [
    "plt.figure()\n",
    "plt.plot(t, pools[0].emg, '-')\n",
    "plt.xlabel('t (ms)')\n",
    "plt.ylabel('EMG (mV)')"
   ]
  },
  {
   "cell_type": "code",
   "execution_count": null,
   "metadata": {
    "collapsed": true
   },
   "outputs": [],
   "source": []
  }
 ],
 "metadata": {
  "kernelspec": {
   "display_name": "Python 2",
   "language": "python",
   "name": "python2"
  },
  "language_info": {
   "codemirror_mode": {
    "name": "ipython",
    "version": 2
   },
   "file_extension": ".py",
   "mimetype": "text/x-python",
   "name": "python",
   "nbconvert_exporter": "python",
   "pygments_lexer": "ipython2",
   "version": "2.7.13"
  }
 },
 "nbformat": 4,
 "nbformat_minor": 2
}
