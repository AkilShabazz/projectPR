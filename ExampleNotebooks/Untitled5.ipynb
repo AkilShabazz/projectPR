{
 "cells": [
  {
   "cell_type": "code",
   "execution_count": 1,
   "metadata": {},
   "outputs": [],
   "source": [
    "import numpy as np"
   ]
  },
  {
   "cell_type": "code",
   "execution_count": 2,
   "metadata": {},
   "outputs": [],
   "source": [
    "try:\n",
    "    x = 0.0/0\n",
    "except ZeroDivisionError:\n",
    "    x = 1"
   ]
  },
  {
   "cell_type": "code",
   "execution_count": 3,
   "metadata": {},
   "outputs": [
    {
     "data": {
      "text/plain": [
       "1"
      ]
     },
     "execution_count": 3,
     "metadata": {},
     "output_type": "execute_result"
    }
   ],
   "source": [
    "x"
   ]
  },
  {
   "cell_type": "code",
   "execution_count": 4,
   "metadata": {},
   "outputs": [],
   "source": [
    "n = np.linspace(0,100,100)"
   ]
  },
  {
   "cell_type": "code",
   "execution_count": 5,
   "metadata": {},
   "outputs": [],
   "source": [
    "v = np.exp(1/100.0*np.log(18+1)*n) - 1"
   ]
  },
  {
   "cell_type": "code",
   "execution_count": 6,
   "metadata": {},
   "outputs": [
    {
     "data": {
      "text/plain": [
       "array([  0.        ,   0.03018851,   0.06128837,   0.09332709,\n",
       "         0.12633301,   0.16033533,   0.19536413,   0.23145039,\n",
       "         0.26862605,   0.30692398,   0.34637807,   0.38702323,\n",
       "         0.42889539,   0.47203162,   0.51647007,   0.56225004,\n",
       "         0.60941205,   0.65799781,   0.7080503 ,   0.75961379,\n",
       "         0.81273392,   0.86745766,   0.92383343,   0.9819111 ,\n",
       "         1.04174205,   1.10337921,   1.1668771 ,   1.23229189,\n",
       "         1.29968147,   1.36910543,   1.4406252 ,   1.51430405,\n",
       "         1.59020715,   1.66840165,   1.74895673,   1.83194364,\n",
       "         1.91743581,   2.00550886,   2.0962407 ,   2.18971161,\n",
       "         2.28600426,   2.38520384,   2.48739811,   2.59267747,\n",
       "         2.70113506,   2.81286683,   2.92797161,   3.04655123,\n",
       "         3.16871059,   3.29455777,   3.42420408,   3.55776422,\n",
       "         3.69535635,   3.83710217,   3.9831271 ,   4.13356029,\n",
       "         4.28853485,   4.44818785,   4.61266054,   4.78209841,\n",
       "         4.95665137,   5.13647382,   5.32172484,   5.51256831,\n",
       "         5.70917306,   5.91171302,   6.12036736,   6.33532066,\n",
       "         6.55676309,   6.78489053,   7.0199048 ,   7.2620138 ,\n",
       "         7.51143171,   7.76837917,   8.0330835 ,   8.30577886,\n",
       "         8.58670649,   8.8761149 ,   9.17426013,   9.48140591,\n",
       "         9.79782397,  10.12379422,  10.45960503,  10.80555346,\n",
       "        11.16194557,  11.52909662,  11.90733142,  12.29698456,\n",
       "        12.69840075,  13.1119351 ,  13.53795344,  13.97683264,\n",
       "        14.42896094,  14.89473833,  15.37457685,  15.86890097,\n",
       "        16.37814801,  16.90276846,  17.44322642,  18.        ])"
      ]
     },
     "execution_count": 6,
     "metadata": {},
     "output_type": "execute_result"
    }
   ],
   "source": [
    "v"
   ]
  },
  {
   "cell_type": "code",
   "execution_count": null,
   "metadata": {},
   "outputs": [],
   "source": []
  }
 ],
 "metadata": {
  "kernelspec": {
   "display_name": "Python [default]",
   "language": "python",
   "name": "python2"
  },
  "language_info": {
   "codemirror_mode": {
    "name": "ipython",
    "version": 2
   },
   "file_extension": ".py",
   "mimetype": "text/x-python",
   "name": "python",
   "nbconvert_exporter": "python",
   "pygments_lexer": "ipython2",
   "version": "2.7.14"
  }
 },
 "nbformat": 4,
 "nbformat_minor": 2
}
