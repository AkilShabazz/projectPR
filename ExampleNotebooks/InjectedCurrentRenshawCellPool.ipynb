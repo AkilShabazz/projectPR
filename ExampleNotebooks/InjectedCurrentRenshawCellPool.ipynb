{
 "cells": [
  {
   "cell_type": "code",
   "execution_count": null,
   "metadata": {
    "collapsed": true,
    "slideshow": {
     "slide_type": "slide"
    }
   },
   "outputs": [],
   "source": [
    "# This notebook presents a simulation of a pool of Renshaw cells (RC) with a current injected (iInjected) in their soma."
   ]
  },
  {
   "cell_type": "code",
   "execution_count": null,
   "metadata": {
    "collapsed": false,
    "slideshow": {
     "slide_type": "slide"
    }
   },
   "outputs": [],
   "source": [
    "import sys\n",
    "sys.path.insert(0, '..')\n",
    "import time\n",
    "import matplotlib.pyplot as plt\n",
    "%matplotlib inline  \n",
    "import numpy as np\n",
    "\n",
    "from Configuration import Configuration\n",
    "from InterneuronPool import InterneuronPool\n",
    "from SynapsesFactory import SynapsesFactory"
   ]
  },
  {
   "cell_type": "code",
   "execution_count": null,
   "metadata": {
    "collapsed": false,
    "slideshow": {
     "slide_type": "slide"
    }
   },
   "outputs": [],
   "source": [
    "conf = Configuration('confInjectedCurrentRenshawCellPool.rmto')\n",
    "conf.simDuration_ms = 500 # Here I change simulation duration without changing the Configuration file."
   ]
  },
  {
   "cell_type": "code",
   "execution_count": null,
   "metadata": {
    "collapsed": false,
    "slideshow": {
     "slide_type": "slide"
    }
   },
   "outputs": [],
   "source": [
    "# Time vector for the simulation\n",
    "t = np.arange(0.0, conf.simDuration_ms, conf.timeStep_ms)\n",
    "\n",
    "membPotential = np.zeros_like(t, dtype = 'd')"
   ]
  },
  {
   "cell_type": "code",
   "execution_count": null,
   "metadata": {
    "collapsed": false
   },
   "outputs": [],
   "source": [
    "pools = []\n",
    "pools.append(InterneuronPool(conf, 'RC'))\n",
    "\n",
    "Syn = SynapsesFactory(conf, pools)\n",
    "\n"
   ]
  },
  {
   "cell_type": "code",
   "execution_count": null,
   "metadata": {
    "collapsed": false,
    "slideshow": {
     "slide_type": "slide"
    }
   },
   "outputs": [],
   "source": [
    "# The simulation  itself\n",
    "\n",
    "tic = time.clock()\n",
    "for i in xrange(0,len(t)-1):\n",
    "    # Here you can change the injected current in the Resnhaw cell during the simulation\n",
    "    for j in pools[0].unit:\n",
    "        j.iInjected = 5\n",
    "    pools[1].atualizePool(t[i])    \n",
    "    pools[0].atualizeInterneuronPool(t[i])\n",
    "    membPotential[i] = pools[0].unit[175].v_mV # This command records the membrane potential of the RC with index 175.\n",
    "toc = time.clock()\n",
    "print str(toc - tic) + ' seconds'"
   ]
  },
  {
   "cell_type": "code",
   "execution_count": null,
   "metadata": {
    "collapsed": false,
    "scrolled": true,
    "slideshow": {
     "slide_type": "slide"
    }
   },
   "outputs": [],
   "source": [
    "pools[0].listSpikes()\n",
    "\n",
    "plt.plot(pools[0].poolSomaSpikes[:, 0],\n",
    "    pools[0].poolSomaSpikes[:, 1]+1, '.')\n",
    "\n",
    "plt.xlabel('t (ms)')\n",
    "plt.ylabel('RC index')\n",
    "\n",
    "plt.show()"
   ]
  },
  {
   "cell_type": "code",
   "execution_count": null,
   "metadata": {
    "collapsed": false
   },
   "outputs": [],
   "source": [
    "pools[1].listSpikes()\n",
    "\n",
    "plt.plot(pools[1].poolTerminalSpikes[:, 0],\n",
    "    pools[1].poolTerminalSpikes[:, 1]+1, '.')\n",
    "\n",
    "plt.xlabel('t (ms)')\n",
    "plt.ylabel('RC index')\n",
    "\n",
    "plt.show()"
   ]
  },
  {
   "cell_type": "code",
   "execution_count": null,
   "metadata": {
    "collapsed": false,
    "slideshow": {
     "slide_type": "slide"
    }
   },
   "outputs": [],
   "source": [
    "plt.figure()\n",
    "\n",
    "plt.plot(t, membPotential, '-')\n",
    "\n",
    "plt.xlabel('t (ms)')\n",
    "plt.ylabel('Soma potential (mV)')\n",
    "\n",
    "plt.show()"
   ]
  },
  {
   "cell_type": "code",
   "execution_count": null,
   "metadata": {
    "collapsed": false
   },
   "outputs": [],
   "source": [
    "ISI = np.array([])\n",
    "for i in xrange(0,len(pools[1].unit)):\n",
    "    ISI = np.append(ISI, np.diff(np.reshape(np.array(pools[1].unit[i].terminalSpikeTrain), (-1,2))[:,0]))\n",
    "print ISI"
   ]
  },
  {
   "cell_type": "code",
   "execution_count": null,
   "metadata": {
    "collapsed": false
   },
   "outputs": [],
   "source": [
    "plt.figure()\n",
    "plt.hist(ISI)"
   ]
  },
  {
   "cell_type": "code",
   "execution_count": null,
   "metadata": {
    "collapsed": false
   },
   "outputs": [],
   "source": [
    "print pools[0].unit[175].threshold_mV"
   ]
  },
  {
   "cell_type": "code",
   "execution_count": null,
   "metadata": {
    "collapsed": false
   },
   "outputs": [],
   "source": [
    "print np.max(membPotential)"
   ]
  },
  {
   "cell_type": "code",
   "execution_count": null,
   "metadata": {
    "collapsed": false
   },
   "outputs": [],
   "source": [
    "np.exp(float(\"-inf\"))"
   ]
  },
  {
   "cell_type": "code",
   "execution_count": null,
   "metadata": {
    "collapsed": true
   },
   "outputs": [],
   "source": [
    "import math"
   ]
  },
  {
   "cell_type": "code",
   "execution_count": null,
   "metadata": {
    "collapsed": false
   },
   "outputs": [],
   "source": [
    "math.exp(-(2-float(\"-inf\")))"
   ]
  },
  {
   "cell_type": "code",
   "execution_count": null,
   "metadata": {
    "collapsed": true
   },
   "outputs": [],
   "source": []
  }
 ],
 "metadata": {
  "celltoolbar": "Slideshow",
  "kernelspec": {
   "display_name": "Python 2",
   "language": "python",
   "name": "python2"
  },
  "language_info": {
   "codemirror_mode": {
    "name": "ipython",
    "version": 2
   },
   "file_extension": ".py",
   "mimetype": "text/x-python",
   "name": "python",
   "nbconvert_exporter": "python",
   "pygments_lexer": "ipython2",
   "version": "2.7.12"
  }
 },
 "nbformat": 4,
 "nbformat_minor": 0
}
