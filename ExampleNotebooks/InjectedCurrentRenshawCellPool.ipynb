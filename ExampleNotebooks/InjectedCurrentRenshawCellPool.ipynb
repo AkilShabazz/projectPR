{
 "cells": [
  {
   "cell_type": "markdown",
   "metadata": {},
   "source": [
    "This notebook presents a simulation of a pool of Renshaw cells (RC) with a current injected (iInjected) in their soma."
   ]
  },
  {
   "cell_type": "code",
   "execution_count": 1,
   "metadata": {
    "collapsed": false
   },
   "outputs": [
    {
     "name": "stderr",
     "output_type": "stream",
     "text": [
      "/home/renato/intel/intelpython27/lib/python2.7/site-packages/IPython/kernel/__init__.py:13: ShimWarning: The `IPython.kernel` package has been deprecated. You should import from ipykernel or jupyter_client instead.\n",
      "  \"You should import from ipykernel or jupyter_client instead.\", ShimWarning)\n"
     ]
    }
   ],
   "source": [
    "import sys\n",
    "sys.path.insert(0, '..')\n",
    "import time\n",
    "import matplotlib.pyplot as plt\n",
    "%matplotlib inline  \n",
    "import numpy as np\n",
    "\n",
    "from Configuration import Configuration\n",
    "from MotorUnitPool import MotorUnitPool\n",
    "from InterneuronPool import InterneuronPool\n",
    "from NeuralTract import NeuralTract\n",
    "from SynapsesFactory import SynapsesFactory\n",
    "from jointAnkleForceTask import jointAnkleForceTask"
   ]
  },
  {
   "cell_type": "code",
   "execution_count": 2,
   "metadata": {
    "collapsed": false
   },
   "outputs": [],
   "source": [
    "conf = Configuration('confInjectedCurrentRenshawCellPool.rmto')\n",
    "conf.simDuration_ms = 100 # Here I change simulation duration without changing the Configuration file."
   ]
  },
  {
   "cell_type": "code",
   "execution_count": 3,
   "metadata": {
    "collapsed": false
   },
   "outputs": [
    {
     "name": "stdout",
     "output_type": "stream",
     "text": [
      "Interneuron Pool of RC built\n"
     ]
    }
   ],
   "source": [
    "pools = []\n",
    "pools.append(InterneuronPool(conf, 'RC'))"
   ]
  },
  {
   "cell_type": "code",
   "execution_count": null,
   "metadata": {
    "collapsed": false
   },
   "outputs": [],
   "source": [
    "# Time vector for the simulation\n",
    "t = np.arange(0.0, conf.simDuration_ms, conf.timeStep_ms)"
   ]
  },
  {
   "cell_type": "code",
   "execution_count": null,
   "metadata": {
    "collapsed": false
   },
   "outputs": [],
   "source": [
    "# The simulation  itself\n",
    "tic = time.clock()\n",
    "for i in xrange(0,len(t)-1):\n",
    "    # Here you can change the injected current in the Resnhaw cell during the simulation\n",
    "    for j in pools[0].unit:\n",
    "        j.iInjected = 10\n",
    "    pools[0].atualizeInterneuronPool(t[i])\n",
    "toc = time.clock()\n",
    "print str(toc - tic) + ' seconds'"
   ]
  },
  {
   "cell_type": "code",
   "execution_count": null,
   "metadata": {
    "collapsed": false,
    "scrolled": true
   },
   "outputs": [],
   "source": [
    "pools[0].listSpikes()\n",
    "\n",
    "plt.plot(pools[0].poolSomaSpikes[:, 0],\n",
    "    pools[0].poolSomaSpikes[:, 1]+1, '.')\n",
    "\n",
    "plt.xlabel('t (ms)')\n",
    "plt.ylabel('RC index')\n",
    "\n",
    "plt.show()"
   ]
  },
  {
   "cell_type": "code",
   "execution_count": null,
   "metadata": {
    "collapsed": false
   },
   "outputs": [],
   "source": [
    "a = 'inf'\n",
    "b = float(a)\n",
    "np.isfinite(b)"
   ]
  }
 ],
 "metadata": {
  "kernelspec": {
   "display_name": "Python 2",
   "language": "python",
   "name": "python2"
  },
  "language_info": {
   "codemirror_mode": {
    "name": "ipython",
    "version": 2
   },
   "file_extension": ".py",
   "mimetype": "text/x-python",
   "name": "python",
   "nbconvert_exporter": "python",
   "pygments_lexer": "ipython2",
   "version": "2.7.12"
  }
 },
 "nbformat": 4,
 "nbformat_minor": 0
}
