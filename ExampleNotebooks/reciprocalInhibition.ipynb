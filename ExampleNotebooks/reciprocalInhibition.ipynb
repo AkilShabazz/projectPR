{
 "cells": [
  {
   "cell_type": "code",
   "execution_count": 4,
   "metadata": {
    "collapsed": true
   },
   "outputs": [],
   "source": [
    "import sys\n",
    "sys.path.insert(0, '..')\n",
    "import time\n",
    "import matplotlib.pyplot as plt\n",
    "import matplotlib.gridspec as gridspec\n",
    "%matplotlib notebook  \n",
    "import numpy as np\n",
    "\n",
    "from Configuration import Configuration\n",
    "from MotorUnitPool import MotorUnitPool\n",
    "from AfferentPool import AfferentPool\n",
    "from SynapsesFactory import SynapsesFactory"
   ]
  },
  {
   "cell_type": "code",
   "execution_count": 5,
   "metadata": {},
   "outputs": [],
   "source": [
    "conf = Configuration('confReciprocalInhibition.rmto')"
   ]
  },
  {
   "cell_type": "code",
   "execution_count": null,
   "metadata": {
    "collapsed": true
   },
   "outputs": [],
   "source": [
    "pools = dict()\n",
    "pools[0] = MotorUnitPool(conf, 'SOL')\n",
    "pools[1] = AfferentPool(conf,'Ia', 'SOL')\n",
    "pools[2]= AfferentPool(conf,'Ia', 'LG')\n",
    "pools[3]= AfferentPool(conf,'Ia', 'TA')\n",
    "pools[4] = InterneuronPool(conf, 'IaIn', 'ext')\n",
    "Syn = SynapsesFactory(conf, pools)\n",
    "del Syn "
   ]
  }
 ],
 "metadata": {
  "kernelspec": {
   "display_name": "Python 2",
   "language": "python",
   "name": "python2"
  },
  "language_info": {
   "codemirror_mode": {
    "name": "ipython",
    "version": 2
   },
   "file_extension": ".py",
   "mimetype": "text/x-python",
   "name": "python",
   "nbconvert_exporter": "python",
   "pygments_lexer": "ipython2",
   "version": "2.7.13"
  }
 },
 "nbformat": 4,
 "nbformat_minor": 2
}
