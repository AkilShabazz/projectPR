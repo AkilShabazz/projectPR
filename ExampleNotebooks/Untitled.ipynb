{
 "cells": [
  {
   "cell_type": "code",
   "execution_count": 1,
   "metadata": {
    "collapsed": true
   },
   "outputs": [],
   "source": [
    "from numpy import *\n",
    "import time "
   ]
  },
  {
   "cell_type": "code",
   "execution_count": 21,
   "metadata": {},
   "outputs": [
    {
     "name": "stdout",
     "output_type": "stream",
     "text": [
      "10 loops, best of 3: 28 ms per loop\n"
     ]
    }
   ],
   "source": [
    "x = random.random((10000,10000))\n",
    "v = random.random((10000,1))\n",
    "\n",
    "%timeit foo = dot(x, v)\n"
   ]
  },
  {
   "cell_type": "code",
   "execution_count": 23,
   "metadata": {},
   "outputs": [
    {
     "name": "stdout",
     "output_type": "stream",
     "text": [
      "1000 loops, best of 3: 855 µs per loop\n"
     ]
    }
   ],
   "source": [
    "# test sparse matrix multiplication\n",
    "from scipy import sparse\n",
    "from scipy.sparse import lil_matrix\n",
    "x = sparse.rand(10000,10000)\n",
    "x=x.tobsr()\n",
    "\n",
    "%timeit foo = x.dot(v)\n"
   ]
  },
  {
   "cell_type": "code",
   "execution_count": 24,
   "metadata": {},
   "outputs": [],
   "source": [
    "def SpMV_viaMKL( A, x ):\n",
    "     '''\n",
    "     Wrapper to Intel's SpMV\n",
    "     (Sparse Matrix-Vector multiply)\n",
    "     For medium-sized matrices, this is 4x faster\n",
    "     than scipy's default implementation\n",
    "     Stephen Becker, April 24 2014\n",
    "     stephen.beckr@gmail.com\n",
    "     '''\n",
    "\n",
    "     import numpy as np\n",
    "     import scipy.sparse as sparse\n",
    "     from ctypes import POINTER,c_void_p,c_int,c_char,c_double,byref,cdll\n",
    "     mkl = cdll.LoadLibrary(\"libmkl_rt.so\")\n",
    "\n",
    "     SpMV = mkl.mkl_cspblas_dcsrgemv\n",
    "     # Dissecting the \"cspblas_dcsrgemv\" name:\n",
    "     # \"c\" - for \"c-blas\" like interface (as opposed to fortran)\n",
    "     #    Also means expects sparse arrays to use 0-based indexing, which python does\n",
    "     # \"sp\"  for sparse\n",
    "     # \"d\"   for double-precision\n",
    "     # \"csr\" for compressed row format\n",
    "     # \"ge\"  for \"general\", e.g., the matrix has no special structure such as symmetry\n",
    "     # \"mv\"  for \"matrix-vector\" multiply\n",
    "\n",
    "     m, n = A.shape\n",
    "\n",
    "     # The data of the matrix\n",
    "     data    = A.data.ctypes.data_as(POINTER(c_double))\n",
    "     indptr  = A.indptr.ctypes.data_as(POINTER(c_int))\n",
    "     indices = A.indices.ctypes.data_as(POINTER(c_int))\n",
    "\n",
    "     # Allocate output, using same conventions as input\n",
    "     nVectors = 1\n",
    "     if x.ndim is 1:\n",
    "        y = np.empty(m,dtype=np.double,order='F')\n",
    "     elif x.shape[1] is 1:\n",
    "        y = np.empty((m,1),dtype=np.double,order='F')\n",
    "        \n",
    "\n",
    "   \n",
    "\n",
    "     np_x = x.ctypes.data_as(POINTER(c_double))\n",
    "     np_y = y.ctypes.data_as(POINTER(c_double))\n",
    "     # now call MKL. This returns the answer in np_y, which links to y\n",
    "     SpMV(byref(c_char(\"N\")), byref(c_int(m)),data ,indptr, indices, np_x, np_y ) \n",
    "\n",
    "     return y"
   ]
  },
  {
   "cell_type": "code",
   "execution_count": 27,
   "metadata": {},
   "outputs": [
    {
     "name": "stdout",
     "output_type": "stream",
     "text": [
      "The slowest run took 21.96 times longer than the fastest. This could mean that an intermediate result is being cached.\n",
      "1000 loops, best of 3: 413 µs per loop\n"
     ]
    }
   ],
   "source": [
    "x  = x.tocsr()\n",
    "\n",
    "%timeit foo = SpMV_viaMKL(A=x,x=v)\n"
   ]
  },
  {
   "cell_type": "code",
   "execution_count": 11,
   "metadata": {},
   "outputs": [
    {
     "data": {
      "text/plain": [
       "True"
      ]
     },
     "execution_count": 11,
     "metadata": {},
     "output_type": "execute_result"
    }
   ],
   "source": [
    "sparse.isspmatrix_csr(x.tocsr())"
   ]
  },
  {
   "cell_type": "code",
   "execution_count": null,
   "metadata": {
    "collapsed": true
   },
   "outputs": [],
   "source": []
  },
  {
   "cell_type": "code",
   "execution_count": null,
   "metadata": {
    "collapsed": true
   },
   "outputs": [],
   "source": []
  }
 ],
 "metadata": {
  "kernelspec": {
   "display_name": "Python 2",
   "language": "python",
   "name": "python2"
  },
  "language_info": {
   "codemirror_mode": {
    "name": "ipython",
    "version": 2
   },
   "file_extension": ".py",
   "mimetype": "text/x-python",
   "name": "python",
   "nbconvert_exporter": "python",
   "pygments_lexer": "ipython2",
   "version": "2.7.14"
  }
 },
 "nbformat": 4,
 "nbformat_minor": 2
}
